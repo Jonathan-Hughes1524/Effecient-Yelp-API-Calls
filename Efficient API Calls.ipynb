{
 "cells": [
  {
   "cell_type": "code",
   "execution_count": 1,
   "id": "e96519ce",
   "metadata": {},
   "outputs": [],
   "source": [
    "# Standard Imports\n",
    "import numpy as np\n",
    "import pandas as pd\n",
    "import matplotlib.pyplot as plt\n",
    "import seaborn as sns\n",
    "# Additional Imports\n",
    "import os, json, math, time\n",
    "from yelpapi import YelpAPI\n",
    "from tqdm.notebook import tqdm_notebook\n"
   ]
  },
  {
   "cell_type": "code",
   "execution_count": 2,
   "id": "0d8c6f19",
   "metadata": {},
   "outputs": [
    {
     "name": "stdout",
     "output_type": "stream",
     "text": [
      "Requirement already satisfied: tqdm in c:\\users\\jhugh\\anaconda3\\envs\\dojo-env\\lib\\site-packages (4.64.1)\n",
      "Requirement already satisfied: colorama in c:\\users\\jhugh\\anaconda3\\envs\\dojo-env\\lib\\site-packages (from tqdm) (0.4.5)\n"
     ]
    }
   ],
   "source": [
    "# Install tmdbsimple (only need to run once)\n",
    "!pip install tqdm"
   ]
  },
  {
   "cell_type": "code",
   "execution_count": 3,
   "id": "82f86644",
   "metadata": {},
   "outputs": [],
   "source": [
    "# Load API Credentials\n",
    "with open ('/Users/jhugh/.secret/yelp_api.json') as f:\n",
    "    login = json.load(f)\n",
    "    \n",
    "#Instantiate YelpAPI Variable\n",
    "yelp_api = YelpAPI(login['api_key'], timeout_s=5.0)"
   ]
  },
  {
   "cell_type": "code",
   "execution_count": 4,
   "id": "ef634767",
   "metadata": {},
   "outputs": [],
   "source": [
    "# set our API call parameters\n",
    "LOCATION = 'Orlando, FL'\n",
    "TERM = 'Seafood'"
   ]
  },
  {
   "cell_type": "code",
   "execution_count": 5,
   "id": "cf61d2c5",
   "metadata": {},
   "outputs": [
    {
     "data": {
      "text/plain": [
       "'Data/results_in_progress_FL_seafood.json'"
      ]
     },
     "execution_count": 5,
     "metadata": {},
     "output_type": "execute_result"
    }
   ],
   "source": [
    "#Specifying JSON_FILE filename\n",
    "# include the search terms in the filename\n",
    "JSON_FILE = \"Data/results_in_progress_FL_seafood.json\"\n",
    "JSON_FILE"
   ]
  },
  {
   "cell_type": "code",
   "execution_count": 6,
   "id": "eacf47e8",
   "metadata": {},
   "outputs": [
    {
     "name": "stdout",
     "output_type": "stream",
     "text": [
      "[i] Data/results_in_progress_FL_seafood.json already exists.\n"
     ]
    }
   ],
   "source": [
    "## Check if JSON_FILE exists\n",
    "file_exists = os.path.isfile(JSON_FILE)\n",
    "## If it does not exist: \n",
    "if file_exists == False:\n",
    "    \n",
    "    ## CREATE ANY NEEDED FOLDERS\n",
    "    # Get the Folder Name only\n",
    "    folder = os.path.dirname(JSON_FILE)\n",
    "    ## If JSON_FILE included a folder:\n",
    "    if len(folder)>0:\n",
    "        # create the folder\n",
    "        os.makedirs(folder,exist_ok=True)\n",
    "        \n",
    "        \n",
    "    ## INFORM USER AND SAVE EMPTY LIST\n",
    "    print(f'[i] {JSON_FILE} not found. Saving empty list to file.')\n",
    "    \n",
    "    \n",
    "    # save an empty list\n",
    "    with open(JSON_FILE,'w') as f:\n",
    "        json.dump([],f)  \n",
    "# If it exists, inform user\n",
    "else:\n",
    "    print(f\"[i] {JSON_FILE} already exists.\")\n"
   ]
  },
  {
   "cell_type": "code",
   "execution_count": 7,
   "id": "9b3a0b1e",
   "metadata": {},
   "outputs": [
    {
     "name": "stdout",
     "output_type": "stream",
     "text": [
      "- 20 previous results found.\n"
     ]
    }
   ],
   "source": [
    "## Load previous results and use len of results for offset\n",
    "with open(JSON_FILE,'r') as f:\n",
    "    previous_results = json.load(f)\n",
    "    \n",
    "## set offset based on previous results\n",
    "n_results = len(previous_results)\n",
    "print(f'- {n_results} previous results found.')"
   ]
  },
  {
   "cell_type": "code",
   "execution_count": 8,
   "id": "1a237e48",
   "metadata": {},
   "outputs": [
    {
     "data": {
      "text/plain": [
       "dict_keys(['businesses', 'total', 'region'])"
      ]
     },
     "execution_count": 8,
     "metadata": {},
     "output_type": "execute_result"
    }
   ],
   "source": [
    "#Use our yelp_api variable's search)query method\n",
    "results = yelp_api.search_query(term =TERM,location=LOCATION,\n",
    "                               offset=n_results)\n",
    "results.keys()"
   ]
  },
  {
   "cell_type": "code",
   "execution_count": 9,
   "id": "3ccfc180",
   "metadata": {},
   "outputs": [
    {
     "data": {
      "text/plain": [
       "1600"
      ]
     },
     "execution_count": 9,
     "metadata": {},
     "output_type": "execute_result"
    }
   ],
   "source": [
    "total_results = results['total']\n",
    "total_results"
   ]
  },
  {
   "cell_type": "code",
   "execution_count": 10,
   "id": "3e71031c",
   "metadata": {},
   "outputs": [
    {
     "data": {
      "text/plain": [
       "20"
      ]
     },
     "execution_count": 10,
     "metadata": {},
     "output_type": "execute_result"
    }
   ],
   "source": [
    "results_per_page = len(results['businesses'])\n",
    "results_per_page"
   ]
  },
  {
   "cell_type": "code",
   "execution_count": 11,
   "id": "5bded2e0",
   "metadata": {},
   "outputs": [
    {
     "data": {
      "text/plain": [
       "79"
      ]
     },
     "execution_count": 11,
     "metadata": {},
     "output_type": "execute_result"
    }
   ],
   "source": [
    "import time, math\n",
    "n_pages = math.ceil((results['total']-n_results)/results_per_page)\n",
    "n_pages"
   ]
  },
  {
   "cell_type": "code",
   "execution_count": 12,
   "id": "4327b89f",
   "metadata": {},
   "outputs": [],
   "source": [
    "previous_results.extend(results['businesses'])  \n",
    "with open(JSON_FILE,'w') as f:\n",
    "     json.dump(previous_results,f)"
   ]
  },
  {
   "cell_type": "code",
   "execution_count": 13,
   "id": "bf097873",
   "metadata": {},
   "outputs": [
    {
     "data": {
      "application/vnd.jupyter.widget-view+json": {
       "model_id": "7459242636194b3b97b8f83d4c0dcf78",
       "version_major": 2,
       "version_minor": 0
      },
      "text/plain": [
       "  0%|          | 0/79 [00:00<?, ?it/s]"
      ]
     },
     "metadata": {},
     "output_type": "display_data"
    }
   ],
   "source": [
    "from tqdm.notebook import tqdm_notebook\n",
    "import time\n",
    "for i in tqdm_notebook(range(n_pages)):\n",
    "    # adds 200 ms pause\n",
    "    time.sleep(.2) "
   ]
  },
  {
   "cell_type": "code",
   "execution_count": 15,
   "id": "70edd06b",
   "metadata": {},
   "outputs": [
    {
     "data": {
      "text/html": [
       "<div>\n",
       "<style scoped>\n",
       "    .dataframe tbody tr th:only-of-type {\n",
       "        vertical-align: middle;\n",
       "    }\n",
       "\n",
       "    .dataframe tbody tr th {\n",
       "        vertical-align: top;\n",
       "    }\n",
       "\n",
       "    .dataframe thead th {\n",
       "        text-align: right;\n",
       "    }\n",
       "</style>\n",
       "<table border=\"1\" class=\"dataframe\">\n",
       "  <thead>\n",
       "    <tr style=\"text-align: right;\">\n",
       "      <th></th>\n",
       "      <th>id</th>\n",
       "      <th>alias</th>\n",
       "      <th>name</th>\n",
       "      <th>image_url</th>\n",
       "      <th>is_closed</th>\n",
       "      <th>url</th>\n",
       "      <th>review_count</th>\n",
       "      <th>categories</th>\n",
       "      <th>rating</th>\n",
       "      <th>coordinates</th>\n",
       "      <th>transactions</th>\n",
       "      <th>price</th>\n",
       "      <th>location</th>\n",
       "      <th>phone</th>\n",
       "      <th>display_phone</th>\n",
       "      <th>distance</th>\n",
       "    </tr>\n",
       "  </thead>\n",
       "  <tbody>\n",
       "    <tr>\n",
       "      <th>0</th>\n",
       "      <td>6slmz-P3XOWUq6DqN7Ujsw</td>\n",
       "      <td>happy-snapper-seafood-restaurant-orlando</td>\n",
       "      <td>Happy Snapper Seafood Restaurant</td>\n",
       "      <td>https://s3-media3.fl.yelpcdn.com/bphoto/KMLWln...</td>\n",
       "      <td>False</td>\n",
       "      <td>https://www.yelp.com/biz/happy-snapper-seafood...</td>\n",
       "      <td>366</td>\n",
       "      <td>[{'alias': 'seafood', 'title': 'Seafood'}, {'a...</td>\n",
       "      <td>5.0</td>\n",
       "      <td>{'latitude': 28.468527, 'longitude': -81.367425}</td>\n",
       "      <td>[pickup, delivery]</td>\n",
       "      <td>$$</td>\n",
       "      <td>{'address1': '6327 S Orange Ave', 'address2': ...</td>\n",
       "      <td>+14077570976</td>\n",
       "      <td>(407) 757-0976</td>\n",
       "      <td>3872.699824</td>\n",
       "    </tr>\n",
       "    <tr>\n",
       "      <th>1</th>\n",
       "      <td>BagLeKP3wgcP9EWu34Bd8w</td>\n",
       "      <td>mr-and-mrs-crab-orlando-2</td>\n",
       "      <td>Mr. &amp; Mrs. Crab</td>\n",
       "      <td>https://s3-media1.fl.yelpcdn.com/bphoto/r-Gfjl...</td>\n",
       "      <td>False</td>\n",
       "      <td>https://www.yelp.com/biz/mr-and-mrs-crab-orlan...</td>\n",
       "      <td>90</td>\n",
       "      <td>[{'alias': 'seafood', 'title': 'Seafood'}, {'a...</td>\n",
       "      <td>4.5</td>\n",
       "      <td>{'latitude': 28.460807, 'longitude': -81.3985764}</td>\n",
       "      <td>[delivery]</td>\n",
       "      <td>$$</td>\n",
       "      <td>{'address1': '7220 S Orange Blossom Trl', 'add...</td>\n",
       "      <td>+14072334945</td>\n",
       "      <td>(407) 233-4945</td>\n",
       "      <td>5071.954642</td>\n",
       "    </tr>\n",
       "    <tr>\n",
       "      <th>2</th>\n",
       "      <td>4S1WQMjW-aYkArmm6v-C2A</td>\n",
       "      <td>bar-harbor-seafood-orlando-2</td>\n",
       "      <td>Bar Harbor Seafood</td>\n",
       "      <td>https://s3-media3.fl.yelpcdn.com/bphoto/ntfG2m...</td>\n",
       "      <td>False</td>\n",
       "      <td>https://www.yelp.com/biz/bar-harbor-seafood-or...</td>\n",
       "      <td>529</td>\n",
       "      <td>[{'alias': 'seafood', 'title': 'Seafood'}, {'a...</td>\n",
       "      <td>4.5</td>\n",
       "      <td>{'latitude': 28.46023, 'longitude': -81.40509}</td>\n",
       "      <td>[delivery]</td>\n",
       "      <td>$$</td>\n",
       "      <td>{'address1': '2000 Premier Row', 'address2': '...</td>\n",
       "      <td>+14078514001</td>\n",
       "      <td>(407) 851-4001</td>\n",
       "      <td>5423.451060</td>\n",
       "    </tr>\n",
       "    <tr>\n",
       "      <th>3</th>\n",
       "      <td>4kEwYB1uCRKsajCxFHoOyA</td>\n",
       "      <td>hot-n-juicy-crawfish-orlando</td>\n",
       "      <td>Hot N Juicy Crawfish</td>\n",
       "      <td>https://s3-media2.fl.yelpcdn.com/bphoto/3iMa34...</td>\n",
       "      <td>False</td>\n",
       "      <td>https://www.yelp.com/biz/hot-n-juicy-crawfish-...</td>\n",
       "      <td>1454</td>\n",
       "      <td>[{'alias': 'cajun', 'title': 'Cajun/Creole'}, ...</td>\n",
       "      <td>4.0</td>\n",
       "      <td>{'latitude': 28.4491703091685, 'longitude': -8...</td>\n",
       "      <td>[delivery]</td>\n",
       "      <td>$$</td>\n",
       "      <td>{'address1': '7572 W Sand Lake Rd', 'address2'...</td>\n",
       "      <td>+14073704655</td>\n",
       "      <td>(407) 370-4655</td>\n",
       "      <td>12158.498057</td>\n",
       "    </tr>\n",
       "    <tr>\n",
       "      <th>4</th>\n",
       "      <td>eaNpTadVytk8WoOM0Et2dg</td>\n",
       "      <td>the-boathouse-lake-buena-vista</td>\n",
       "      <td>The Boathouse</td>\n",
       "      <td>https://s3-media2.fl.yelpcdn.com/bphoto/zffi71...</td>\n",
       "      <td>False</td>\n",
       "      <td>https://www.yelp.com/biz/the-boathouse-lake-bu...</td>\n",
       "      <td>2889</td>\n",
       "      <td>[{'alias': 'seafood', 'title': 'Seafood'}, {'a...</td>\n",
       "      <td>4.5</td>\n",
       "      <td>{'latitude': 28.37179431505456, 'longitude': -...</td>\n",
       "      <td>[delivery]</td>\n",
       "      <td>$$$</td>\n",
       "      <td>{'address1': '1620 E Buena Vista Dr', 'address...</td>\n",
       "      <td>+14079392628</td>\n",
       "      <td>(407) 939-2628</td>\n",
       "      <td>20012.406041</td>\n",
       "    </tr>\n",
       "  </tbody>\n",
       "</table>\n",
       "</div>"
      ],
      "text/plain": [
       "                       id                                     alias  \\\n",
       "0  6slmz-P3XOWUq6DqN7Ujsw  happy-snapper-seafood-restaurant-orlando   \n",
       "1  BagLeKP3wgcP9EWu34Bd8w                 mr-and-mrs-crab-orlando-2   \n",
       "2  4S1WQMjW-aYkArmm6v-C2A              bar-harbor-seafood-orlando-2   \n",
       "3  4kEwYB1uCRKsajCxFHoOyA              hot-n-juicy-crawfish-orlando   \n",
       "4  eaNpTadVytk8WoOM0Et2dg            the-boathouse-lake-buena-vista   \n",
       "\n",
       "                               name  \\\n",
       "0  Happy Snapper Seafood Restaurant   \n",
       "1                   Mr. & Mrs. Crab   \n",
       "2                Bar Harbor Seafood   \n",
       "3              Hot N Juicy Crawfish   \n",
       "4                     The Boathouse   \n",
       "\n",
       "                                           image_url  is_closed  \\\n",
       "0  https://s3-media3.fl.yelpcdn.com/bphoto/KMLWln...      False   \n",
       "1  https://s3-media1.fl.yelpcdn.com/bphoto/r-Gfjl...      False   \n",
       "2  https://s3-media3.fl.yelpcdn.com/bphoto/ntfG2m...      False   \n",
       "3  https://s3-media2.fl.yelpcdn.com/bphoto/3iMa34...      False   \n",
       "4  https://s3-media2.fl.yelpcdn.com/bphoto/zffi71...      False   \n",
       "\n",
       "                                                 url  review_count  \\\n",
       "0  https://www.yelp.com/biz/happy-snapper-seafood...           366   \n",
       "1  https://www.yelp.com/biz/mr-and-mrs-crab-orlan...            90   \n",
       "2  https://www.yelp.com/biz/bar-harbor-seafood-or...           529   \n",
       "3  https://www.yelp.com/biz/hot-n-juicy-crawfish-...          1454   \n",
       "4  https://www.yelp.com/biz/the-boathouse-lake-bu...          2889   \n",
       "\n",
       "                                          categories  rating  \\\n",
       "0  [{'alias': 'seafood', 'title': 'Seafood'}, {'a...     5.0   \n",
       "1  [{'alias': 'seafood', 'title': 'Seafood'}, {'a...     4.5   \n",
       "2  [{'alias': 'seafood', 'title': 'Seafood'}, {'a...     4.5   \n",
       "3  [{'alias': 'cajun', 'title': 'Cajun/Creole'}, ...     4.0   \n",
       "4  [{'alias': 'seafood', 'title': 'Seafood'}, {'a...     4.5   \n",
       "\n",
       "                                         coordinates        transactions  \\\n",
       "0   {'latitude': 28.468527, 'longitude': -81.367425}  [pickup, delivery]   \n",
       "1  {'latitude': 28.460807, 'longitude': -81.3985764}          [delivery]   \n",
       "2     {'latitude': 28.46023, 'longitude': -81.40509}          [delivery]   \n",
       "3  {'latitude': 28.4491703091685, 'longitude': -8...          [delivery]   \n",
       "4  {'latitude': 28.37179431505456, 'longitude': -...          [delivery]   \n",
       "\n",
       "  price                                           location         phone  \\\n",
       "0    $$  {'address1': '6327 S Orange Ave', 'address2': ...  +14077570976   \n",
       "1    $$  {'address1': '7220 S Orange Blossom Trl', 'add...  +14072334945   \n",
       "2    $$  {'address1': '2000 Premier Row', 'address2': '...  +14078514001   \n",
       "3    $$  {'address1': '7572 W Sand Lake Rd', 'address2'...  +14073704655   \n",
       "4   $$$  {'address1': '1620 E Buena Vista Dr', 'address...  +14079392628   \n",
       "\n",
       "    display_phone      distance  \n",
       "0  (407) 757-0976   3872.699824  \n",
       "1  (407) 233-4945   5071.954642  \n",
       "2  (407) 851-4001   5423.451060  \n",
       "3  (407) 370-4655  12158.498057  \n",
       "4  (407) 939-2628  20012.406041  "
      ]
     },
     "metadata": {},
     "output_type": "display_data"
    },
    {
     "data": {
      "text/html": [
       "<div>\n",
       "<style scoped>\n",
       "    .dataframe tbody tr th:only-of-type {\n",
       "        vertical-align: middle;\n",
       "    }\n",
       "\n",
       "    .dataframe tbody tr th {\n",
       "        vertical-align: top;\n",
       "    }\n",
       "\n",
       "    .dataframe thead th {\n",
       "        text-align: right;\n",
       "    }\n",
       "</style>\n",
       "<table border=\"1\" class=\"dataframe\">\n",
       "  <thead>\n",
       "    <tr style=\"text-align: right;\">\n",
       "      <th></th>\n",
       "      <th>id</th>\n",
       "      <th>alias</th>\n",
       "      <th>name</th>\n",
       "      <th>image_url</th>\n",
       "      <th>is_closed</th>\n",
       "      <th>url</th>\n",
       "      <th>review_count</th>\n",
       "      <th>categories</th>\n",
       "      <th>rating</th>\n",
       "      <th>coordinates</th>\n",
       "      <th>transactions</th>\n",
       "      <th>price</th>\n",
       "      <th>location</th>\n",
       "      <th>phone</th>\n",
       "      <th>display_phone</th>\n",
       "      <th>distance</th>\n",
       "    </tr>\n",
       "  </thead>\n",
       "  <tbody>\n",
       "    <tr>\n",
       "      <th>995</th>\n",
       "      <td>0RQLb6gLmruTjBeUZwIeoQ</td>\n",
       "      <td>i-drive-liquors-orlando</td>\n",
       "      <td>I-Drive Liquors</td>\n",
       "      <td>https://s3-media2.fl.yelpcdn.com/bphoto/vhtCNq...</td>\n",
       "      <td>False</td>\n",
       "      <td>https://www.yelp.com/biz/i-drive-liquors-orlan...</td>\n",
       "      <td>12</td>\n",
       "      <td>[{'alias': 'beer_and_wine', 'title': 'Beer, Wi...</td>\n",
       "      <td>2.0</td>\n",
       "      <td>{'latitude': 28.41999, 'longitude': -81.46139}</td>\n",
       "      <td>[pickup, delivery]</td>\n",
       "      <td>$$</td>\n",
       "      <td>{'address1': '6169 Westwood Blvd', 'address2':...</td>\n",
       "      <td>+14073543730</td>\n",
       "      <td>(407) 354-3730</td>\n",
       "      <td>12366.311593</td>\n",
       "    </tr>\n",
       "    <tr>\n",
       "      <th>996</th>\n",
       "      <td>cplmWXCfPCn7EYaDzB2X3w</td>\n",
       "      <td>armandos-orlando-2</td>\n",
       "      <td>Armando's</td>\n",
       "      <td>https://s3-media3.fl.yelpcdn.com/bphoto/x4AdbP...</td>\n",
       "      <td>False</td>\n",
       "      <td>https://www.yelp.com/biz/armandos-orlando-2?ad...</td>\n",
       "      <td>96</td>\n",
       "      <td>[{'alias': 'italian', 'title': 'Italian'}, {'a...</td>\n",
       "      <td>3.5</td>\n",
       "      <td>{'latitude': 28.410346, 'longitude': -81.242438}</td>\n",
       "      <td>[]</td>\n",
       "      <td>$$</td>\n",
       "      <td>{'address1': '10775 Narcoossee Rd', 'address2'...</td>\n",
       "      <td>+14072334741</td>\n",
       "      <td>(407) 233-4741</td>\n",
       "      <td>16670.854232</td>\n",
       "    </tr>\n",
       "    <tr>\n",
       "      <th>997</th>\n",
       "      <td>3QVcWJDtXEwhRXK-LXZg8w</td>\n",
       "      <td>hwy-441-diner-tavares-4</td>\n",
       "      <td>Hwy 441 Diner</td>\n",
       "      <td>https://s3-media3.fl.yelpcdn.com/bphoto/uHIa0D...</td>\n",
       "      <td>False</td>\n",
       "      <td>https://www.yelp.com/biz/hwy-441-diner-tavares...</td>\n",
       "      <td>74</td>\n",
       "      <td>[{'alias': 'diners', 'title': 'Diners'}]</td>\n",
       "      <td>3.5</td>\n",
       "      <td>{'latitude': 28.8179064034402, 'longitude': -8...</td>\n",
       "      <td>[delivery]</td>\n",
       "      <td>$</td>\n",
       "      <td>{'address1': '381 E Burleigh Blvd', 'address2'...</td>\n",
       "      <td>+13525085494</td>\n",
       "      <td>(352) 508-5494</td>\n",
       "      <td>48855.745579</td>\n",
       "    </tr>\n",
       "    <tr>\n",
       "      <th>998</th>\n",
       "      <td>IaGsMyZyyU-gtDnqg1NS4Q</td>\n",
       "      <td>cala-bella-shingle-creek-orlando-2</td>\n",
       "      <td>Cala Bella Shingle Creek</td>\n",
       "      <td>https://s3-media2.fl.yelpcdn.com/bphoto/b5JIhF...</td>\n",
       "      <td>False</td>\n",
       "      <td>https://www.yelp.com/biz/cala-bella-shingle-cr...</td>\n",
       "      <td>73</td>\n",
       "      <td>[{'alias': 'italian', 'title': 'Italian'}]</td>\n",
       "      <td>4.0</td>\n",
       "      <td>{'latitude': 28.425776, 'longitude': -81.4349848}</td>\n",
       "      <td>[]</td>\n",
       "      <td>$$$</td>\n",
       "      <td>{'address1': '9939 Universal Blvd', 'address2'...</td>\n",
       "      <td>+14079963663</td>\n",
       "      <td>(407) 996-3663</td>\n",
       "      <td>10221.458701</td>\n",
       "    </tr>\n",
       "    <tr>\n",
       "      <th>999</th>\n",
       "      <td>byiM4huXJqSmKKrTTaOBAw</td>\n",
       "      <td>thai-jasmine-house-tavares</td>\n",
       "      <td>Thai Jasmine House</td>\n",
       "      <td>https://s3-media2.fl.yelpcdn.com/bphoto/Wm3ztR...</td>\n",
       "      <td>False</td>\n",
       "      <td>https://www.yelp.com/biz/thai-jasmine-house-ta...</td>\n",
       "      <td>99</td>\n",
       "      <td>[{'alias': 'thai', 'title': 'Thai'}, {'alias':...</td>\n",
       "      <td>4.5</td>\n",
       "      <td>{'latitude': 28.8036022146513, 'longitude': -8...</td>\n",
       "      <td>[pickup, delivery]</td>\n",
       "      <td>$$</td>\n",
       "      <td>{'address1': '1010 E Alfred St', 'address2': N...</td>\n",
       "      <td>+13527420956</td>\n",
       "      <td>(352) 742-0956</td>\n",
       "      <td>47203.013196</td>\n",
       "    </tr>\n",
       "  </tbody>\n",
       "</table>\n",
       "</div>"
      ],
      "text/plain": [
       "                         id                               alias  \\\n",
       "995  0RQLb6gLmruTjBeUZwIeoQ             i-drive-liquors-orlando   \n",
       "996  cplmWXCfPCn7EYaDzB2X3w                  armandos-orlando-2   \n",
       "997  3QVcWJDtXEwhRXK-LXZg8w             hwy-441-diner-tavares-4   \n",
       "998  IaGsMyZyyU-gtDnqg1NS4Q  cala-bella-shingle-creek-orlando-2   \n",
       "999  byiM4huXJqSmKKrTTaOBAw          thai-jasmine-house-tavares   \n",
       "\n",
       "                         name  \\\n",
       "995           I-Drive Liquors   \n",
       "996                 Armando's   \n",
       "997             Hwy 441 Diner   \n",
       "998  Cala Bella Shingle Creek   \n",
       "999        Thai Jasmine House   \n",
       "\n",
       "                                             image_url  is_closed  \\\n",
       "995  https://s3-media2.fl.yelpcdn.com/bphoto/vhtCNq...      False   \n",
       "996  https://s3-media3.fl.yelpcdn.com/bphoto/x4AdbP...      False   \n",
       "997  https://s3-media3.fl.yelpcdn.com/bphoto/uHIa0D...      False   \n",
       "998  https://s3-media2.fl.yelpcdn.com/bphoto/b5JIhF...      False   \n",
       "999  https://s3-media2.fl.yelpcdn.com/bphoto/Wm3ztR...      False   \n",
       "\n",
       "                                                   url  review_count  \\\n",
       "995  https://www.yelp.com/biz/i-drive-liquors-orlan...            12   \n",
       "996  https://www.yelp.com/biz/armandos-orlando-2?ad...            96   \n",
       "997  https://www.yelp.com/biz/hwy-441-diner-tavares...            74   \n",
       "998  https://www.yelp.com/biz/cala-bella-shingle-cr...            73   \n",
       "999  https://www.yelp.com/biz/thai-jasmine-house-ta...            99   \n",
       "\n",
       "                                            categories  rating  \\\n",
       "995  [{'alias': 'beer_and_wine', 'title': 'Beer, Wi...     2.0   \n",
       "996  [{'alias': 'italian', 'title': 'Italian'}, {'a...     3.5   \n",
       "997           [{'alias': 'diners', 'title': 'Diners'}]     3.5   \n",
       "998         [{'alias': 'italian', 'title': 'Italian'}]     4.0   \n",
       "999  [{'alias': 'thai', 'title': 'Thai'}, {'alias':...     4.5   \n",
       "\n",
       "                                           coordinates        transactions  \\\n",
       "995     {'latitude': 28.41999, 'longitude': -81.46139}  [pickup, delivery]   \n",
       "996   {'latitude': 28.410346, 'longitude': -81.242438}                  []   \n",
       "997  {'latitude': 28.8179064034402, 'longitude': -8...          [delivery]   \n",
       "998  {'latitude': 28.425776, 'longitude': -81.4349848}                  []   \n",
       "999  {'latitude': 28.8036022146513, 'longitude': -8...  [pickup, delivery]   \n",
       "\n",
       "    price                                           location         phone  \\\n",
       "995    $$  {'address1': '6169 Westwood Blvd', 'address2':...  +14073543730   \n",
       "996    $$  {'address1': '10775 Narcoossee Rd', 'address2'...  +14072334741   \n",
       "997     $  {'address1': '381 E Burleigh Blvd', 'address2'...  +13525085494   \n",
       "998   $$$  {'address1': '9939 Universal Blvd', 'address2'...  +14079963663   \n",
       "999    $$  {'address1': '1010 E Alfred St', 'address2': N...  +13527420956   \n",
       "\n",
       "      display_phone      distance  \n",
       "995  (407) 354-3730  12366.311593  \n",
       "996  (407) 233-4741  16670.854232  \n",
       "997  (352) 508-5494  48855.745579  \n",
       "998  (407) 996-3663  10221.458701  \n",
       "999  (352) 742-0956  47203.013196  "
      ]
     },
     "metadata": {},
     "output_type": "display_data"
    }
   ],
   "source": [
    "final_df = pd.read_json(JSON_FILE)\n",
    "display(final_df.head(), final_df.tail())"
   ]
  },
  {
   "cell_type": "code",
   "execution_count": 17,
   "id": "0ed04a56",
   "metadata": {},
   "outputs": [
    {
     "data": {
      "text/plain": [
       "3"
      ]
     },
     "execution_count": 17,
     "metadata": {},
     "output_type": "execute_result"
    }
   ],
   "source": [
    "final_df.duplicated(subset='id').sum()"
   ]
  },
  {
   "cell_type": "code",
   "execution_count": 18,
   "id": "4798235d",
   "metadata": {},
   "outputs": [
    {
     "data": {
      "text/plain": [
       "0"
      ]
     },
     "execution_count": 18,
     "metadata": {},
     "output_type": "execute_result"
    }
   ],
   "source": [
    "final_df = final_df.drop_duplicates(subset='id')\n",
    "final_df.duplicated(subset='id').sum()"
   ]
  },
  {
   "cell_type": "code",
   "execution_count": 20,
   "id": "cef632c6",
   "metadata": {},
   "outputs": [],
   "source": [
    "final_df.to_csv('Data/fina_results_FL_seafood.csv.gz',compression='gzip',\n",
    "               index=False)"
   ]
  },
  {
   "cell_type": "code",
   "execution_count": null,
   "id": "2b2f2bde",
   "metadata": {},
   "outputs": [],
   "source": []
  }
 ],
 "metadata": {
  "kernelspec": {
   "display_name": "Python 3 (ipykernel)",
   "language": "python",
   "name": "python3"
  },
  "language_info": {
   "codemirror_mode": {
    "name": "ipython",
    "version": 3
   },
   "file_extension": ".py",
   "mimetype": "text/x-python",
   "name": "python",
   "nbconvert_exporter": "python",
   "pygments_lexer": "ipython3",
   "version": "3.8.13"
  },
  "toc": {
   "base_numbering": 1,
   "nav_menu": {},
   "number_sections": false,
   "sideBar": true,
   "skip_h1_title": false,
   "title_cell": "Table of Contents",
   "title_sidebar": "Contents",
   "toc_cell": false,
   "toc_position": {},
   "toc_section_display": true,
   "toc_window_display": false
  }
 },
 "nbformat": 4,
 "nbformat_minor": 5
}
